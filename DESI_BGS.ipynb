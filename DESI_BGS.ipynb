{
 "cells": [
  {
   "cell_type": "markdown",
   "id": "892b8c9c",
   "metadata": {},
   "source": [
    "# Import and filter data"
   ]
  },
  {
   "cell_type": "markdown",
   "id": "bdbb2def",
   "metadata": {},
   "source": [
    "### Import and get BGS data"
   ]
  },
  {
   "cell_type": "code",
   "execution_count": null,
   "id": "fca4e147",
   "metadata": {},
   "outputs": [],
   "source": [
    "import numpy as np\n",
    "import fitsio\n",
    "import numpy.lib.recfunctions as rfn\n",
    "import os\n",
    "\n",
    "spec_path = '/Users/ziqimu/Desktop/fastspec-iron.fits'\n",
    "output_path = '/Users/ziqimu/Desktop/BGS_data.fits'\n",
    "\n",
    "\n",
    "with fitsio.FITS(spec_path) as spec_file:\n",
    "    galaxy_table = spec_file[2][\n",
    "        'TARGETID','Z','ZWARN','DELTACHI2','SPECTYPE','RA','DEC','BGS_TARGET', 'SURVEY', 'PROGRAM',\n",
    "        'FLUX_R', 'FLUX_IVAR_R', 'FLUX_G', 'FLUX_IVAR_G', 'FLUX_Z', 'FLUX_IVAR_Z',\n",
    "        'FLUX_W1', 'FLUX_IVAR_W1', 'FLUX_W2', 'FLUX_IVAR_W2'\n",
    "    ][:]\n",
    "\n",
    "    tmp = spec_file[1]['ABSMAG01_SDSS_G', 'ABSMAG01_SDSS_R', 'ABSMAG01_SDSS_Z', \"ABSMAG01_SDSS_U\",\n",
    "                       'LOGMSTAR', 'HALPHA_FLUX', 'HBETA_FLUX', 'SFR', \"HALPHA_EW\"][:]\n",
    "    \n",
    "    galaxy_table = rfn.merge_arrays([galaxy_table, tmp], flatten=True, usemask=False)\n",
    "    del tmp\n",
    "\n",
    "\n",
    "    select = np.where(\n",
    "        (galaxy_table['SPECTYPE'] == 'GALAXY') &\n",
    "        (galaxy_table['SURVEY'] == 'main') &\n",
    "        (galaxy_table['PROGRAM'] == 'bright')\n",
    "    )\n",
    "    galaxy_table = galaxy_table[select]\n",
    "\n",
    "    _, unique_idx = np.unique(galaxy_table['TARGETID'], return_index=True)\n",
    "    galaxy_table = galaxy_table[unique_idx]\n",
    "\n",
    "\n",
    "fitsio.write(output_path, galaxy_table, clobber=True)\n",
    "\n",
    "print(f'Filtered BGS data saved to: {output_path}')\n"
   ]
  },
  {
   "cell_type": "code",
   "execution_count": null,
   "id": "181d8b2b",
   "metadata": {},
   "outputs": [],
   "source": [
    "file_path = '/Users/ziqimu/Desktop/BGS_data.fits'"
   ]
  },
  {
   "cell_type": "code",
   "execution_count": null,
   "id": "cc1bb839",
   "metadata": {},
   "outputs": [],
   "source": [
    "from astropy.io import fits\n",
    "with fits.open(file_path) as hdul:\n",
    "    hdu1 = hdul[1]\n",
    "    \n",
    "    num_rows = len(hdu1.data)\n",
    "    \n",
    "    print(f\"Number of rows in HDU1: {num_rows}\")\n",
    "    \n",
    "with fits.open(file_path) as hdul:\n",
    "    hdul.info()\n",
    "\n",
    "    for i, hdu in enumerate(hdul):\n",
    "        if isinstance(hdu, fits.BinTableHDU) or isinstance(hdu, fits.TableHDU):\n",
    "            print(f\"\\nHDU {i} contains a table with the following columns:\")\n",
    "            print(hdu.columns.names)\n",
    "            "
   ]
  },
  {
   "cell_type": "code",
   "execution_count": null,
   "id": "caeb22df",
   "metadata": {},
   "outputs": [],
   "source": [
    "with fits.open(file_path) as hdul:\n",
    "    hdu1 = hdul[1]\n",
    "\n",
    "    z_data = hdu1.data[\"Z\"]\n",
    "    Dec = hdu1.data[\"DEC\"]\n",
    "    Ra = hdu1.data[\"RA\"]\n",
    "    abs_magr_data = hdu1.data[\"ABSMAG01_SDSS_R\"]\n",
    "    abs_magu_data = hdu1.data[\"ABSMAG01_SDSS_U\"]\n",
    "    abs_magg_data = hdu1.data[\"ABSMAG01_SDSS_G\"]\n",
    "    logmstar_data = hdu1.data[\"LOGMSTAR\"]\n",
    "    halpha_data = hdu1.data[\"HALPHA_FLUX\"]\n",
    "    hbeta_data = hdu1.data[\"HBETA_FLUX\"]\n",
    "    sfr_data = hdu1.data[\"SFR\"]  \n",
    "    \n",
    "    flux_g = hdu1.data[\"FLUX_G\"]\n",
    "    flux_r = hdu1.data[\"FLUX_R\"]\n",
    "    flux_z = hdu1.data[\"FLUX_Z\"]\n",
    "    \n",
    "    \n",
    "    ew = hdu1.data[\"HALPHA_EW\"]"
   ]
  },
  {
   "cell_type": "markdown",
   "id": "dc9c81fa",
   "metadata": {},
   "source": [
    "### Redshift Z <= 0.24."
   ]
  },
  {
   "cell_type": "code",
   "execution_count": null,
   "id": "2f5f35b8",
   "metadata": {},
   "outputs": [],
   "source": [
    "mask_z = z_data <= 0.24\n",
    "filtered_z = z_data[mask_z]\n",
    "filtered_dec = Dec[mask_z]\n",
    "filtered_ra = Ra[mask_z]\n",
    "filtered_abs_magr = abs_magr_data[mask_z]\n",
    "filtered_abs_magu = abs_magu_data[mask_z]\n",
    "filtered_abs_magg = abs_magg_data[mask_z]\n",
    "filtered_logmstar = logmstar_data[mask_z]\n",
    "filtered_halpha = halpha_data[mask_z]\n",
    "filtered_hbeta = hbeta_data[mask_z]\n",
    "filtered_sfr = sfr_data[mask_z]\n",
    "\n",
    "filtered_flux_g = flux_g[mask_z]\n",
    "filtered_flux_r = flux_r[mask_z]\n",
    "filtered_flux_z = flux_z[mask_z]\n",
    "\n",
    "filtered_ew = ew[mask_z]\n",
    "\n"
   ]
  },
  {
   "cell_type": "code",
   "execution_count": null,
   "id": "8c088313",
   "metadata": {},
   "outputs": [],
   "source": [
    "print(f\"Number of rows after filtering: {len(filtered_abs_magr)}\")\n",
    "print(len(filtered_flux_r),len(filtered_ra), len(filtered_dec) )\n"
   ]
  },
  {
   "cell_type": "code",
   "execution_count": null,
   "id": "26ac9190",
   "metadata": {},
   "outputs": [],
   "source": [
    "desktop_path = os.path.join(os.path.expanduser(\"~\"), \"Desktop\")\n",
    "output_filename = os.path.join(desktop_path, \"BGS_filtered_data.fits\")\n",
    "\n",
    "\n",
    "filtered_data = {\n",
    "    \"Z\": filtered_z,\n",
    "    \"DEC\": filtered_dec,\n",
    "    \"RA\": filtered_ra,\n",
    "    \"ABS_MAG_R\": filtered_abs_magr,\n",
    "    \"ABS_MAG_U\": filtered_abs_magu,\n",
    "    \"ABS_MAG_G\": filtered_abs_magg,\n",
    "    \"LOG_MSTAR\": filtered_logmstar,\n",
    "    \"HALPHA\": filtered_halpha,\n",
    "    \"HBETA\": filtered_hbeta,\n",
    "    \"SFR\": filtered_sfr,\n",
    "    \"APP_MAG\": apparent_magnitude,\n",
    "    \"FIBER_FLUX_G\": filtered_fiber_flux_g,\n",
    "    \"FIBER_FLUX_R\": filtered_fiber_flux_r,\n",
    "    \"FIBER_FLUX_Z\": filtered_fiber_flux_z,\n",
    "    \"FLUX_G\": filtered_flux_g,\n",
    "    \"FLUX_R\": filtered_flux_r,\n",
    "    \"FLUX_Z\": filtered_flux_z,\n",
    "    \"Color_ur\": filtered_abs_magu - filtered_abs_magr,\n",
    "    \"Color_gr\":  filtered_abs_magg - filtered_abs_magr,\n",
    "    \"Halpha_EW\": filtered_ew\n",
    "}\n",
    "\n",
    "\n",
    "columns = [fits.Column(name=key, format=\"E\", array=np.array(value)) for key, value in filtered_data.items()]\n",
    "hdu = fits.BinTableHDU.from_columns(columns)\n",
    "\n",
    "\n",
    "hdu.writeto(output_filename, overwrite=True)\n",
    "\n",
    "print(f\"Filtered data successfully saved to: {output_filename}\")"
   ]
  }
 ],
 "metadata": {
  "kernelspec": {
   "display_name": "Python 3 (ipykernel)",
   "language": "python",
   "name": "python3"
  },
  "language_info": {
   "codemirror_mode": {
    "name": "ipython",
    "version": 3
   },
   "file_extension": ".py",
   "mimetype": "text/x-python",
   "name": "python",
   "nbconvert_exporter": "python",
   "pygments_lexer": "ipython3",
   "version": "3.10.11"
  }
 },
 "nbformat": 4,
 "nbformat_minor": 5
}
