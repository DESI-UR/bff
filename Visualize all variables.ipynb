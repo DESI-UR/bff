{
 "cells": [
  {
   "cell_type": "markdown",
   "id": "892b8c9c",
   "metadata": {},
   "source": [
    "# Import and filter data"
   ]
  },
  {
   "cell_type": "markdown",
   "id": "bdbb2def",
   "metadata": {},
   "source": [
    "### Import"
   ]
  },
  {
   "cell_type": "code",
   "execution_count": 1,
   "id": "fca4e147",
   "metadata": {},
   "outputs": [
    {
     "name": "stdout",
     "output_type": "stream",
     "text": [
      "Filename: /Users/ziqimu/Desktop/fastspec-iron.fits\n",
      "No.    Name      Ver    Type      Cards   Dimensions   Format\n",
      "  0  PRIMARY       1 PrimaryHDU      55   ()      \n",
      "  1  FASTSPEC      1 BinTableHDU   1826   17995820R x 907C   [K, 7A, 6A, J, D, 40E, E, E, E, E, E, E, E, E, E, E, E, E, E, E, E, E, E, E, E, E, E, E, E, E, E, E, E, E, E, E, E, E, E, E, E, E, E, E, E, E, E, E, E, E, E, E, E, E, E, E, E, E, E, E, E, E, E, E, E, E, E, E, E, E, E, E, E, E, E, E, E, E, E, E, E, E, E, E, E, E, E, E, J, E, E, E, E, D, D, D, D, D, D, E, E, E, E, E, E, E, E, E, E, E, E, E, E, E, E, E, E, E, E, E, E, E, E, E, J, E, E, E, E, E, E, E, E, E, E, E, E, E, E, E, E, J, E, E, E, E, E, E, E, E, E, E, E, E, E, E, E, E, J, E, E, E, E, E, E, E, E, E, E, E, E, E, E, E, E, J, E, E, E, E, E, E, E, E, E, E, E, E, E, E, E, E, J, E, E, E, E, E, E, E, E, E, E, E, E, E, E, E, E, J, E, E, E, E, E, E, E, E, E, E, E, E, E, E, E, E, J, E, E, E, E, E, E, E, E, E, E, E, E, E, E, E, E, J, E, E, E, E, E, E, E, E, E, E, E, E, E, E, E, E, J, E, E, E, E, E, E, E, E, E, E, E, E, E, E, E, E, J, E, E, E, E, E, E, E, E, E, E, E, E, E, E, E, E, J, E, E, E, E, E, E, E, E, E, E, E, E, E, E, E, E, J, E, E, E, E, E, E, E, E, E, E, E, E, E, E, E, E, J, E, E, E, E, E, E, E, E, E, E, E, E, E, E, E, E, J, E, E, E, E, E, E, E, E, E, E, E, E, E, E, E, E, J, E, E, E, E, E, E, E, E, E, E, E, E, E, E, E, E, J, E, E, E, E, E, E, E, E, E, E, E, E, E, E, E, E, J, E, E, E, E, E, E, E, E, E, E, E, E, E, E, E, E, J, E, E, E, E, E, E, E, E, E, E, E, E, E, E, E, E, J, E, E, E, E, E, E, E, E, E, E, E, E, E, E, E, E, J, E, E, E, E, E, E, E, E, E, E, E, E, E, E, E, E, J, E, E, E, E, E, E, E, E, E, E, E, E, E, E, E, E, J, E, E, E, E, E, E, E, E, E, E, E, E, E, E, E, E, J, E, E, E, E, E, E, E, E, E, E, E, E, E, E, E, E, J, E, E, E, E, E, E, E, E, E, E, E, E, E, E, E, E, J, E, E, E, E, E, E, E, E, E, E, E, E, E, E, E, E, J, E, E, E, E, E, E, E, E, E, E, E, E, E, E, E, E, J, E, E, E, E, E, E, E, E, E, E, E, E, E, E, E, E, J, E, E, E, E, E, E, E, E, E, E, E, E, E, E, E, E, J, E, E, E, E, E, E, E, E, E, E, E, E, E, E, E, E, J, E, E, E, E, E, E, E, E, E, E, E, E, E, E, E, E, J, E, E, E, E, E, E, E, E, E, E, E, E, E, E, E, E, J, E, E, E, E, E, E, E, E, E, E, E, E, E, E, E, E, J, E, E, E, E, E, E, E, E, E, E, E, E, E, E, E, E, J, E, E, E, E, E, E, E, E, E, E, E, E, E, E, E, E, J, E, E, E, E, E, E, E, E, E, E, E, E, E, E, E, E, J, E, E, E, E, E, E, E, E, E, E, E, E, E, E, E, E, J, E, E, E, E, E, E, E, E, E, E, E, E, E, E, E, E, J, E, E, E, E, E, E, E, E, E, E, E, E, E, E, E, E, J, E, E, E, E, E, E, E, E, E, E, E, E, E, E, E, E, J, E, E, E, E, E, E, E, E, E, E, E, E, E, E, E, E, J, E, E, E, E, E, E, E, E, E, E, E, E, E, E, E, E, J, E, E, E, E, E, E, E, E, E, E, E, E, E, E, E, E, J, E, E, E, E, E, E, E, E, E, E, E, E, E, E, E, E, J, E, E, E, E, E, E, E, E, E, E, E, E, E, E, E, E, J, E, E, E, E, E, E, E, E, E, E, E, E, E, E, E, E, J, E, E, E, E, E, E, E, E, E, E, E, E, E, E, E, E, J]   \n",
      "  2  METADATA      1 BinTableHDU    163   17995820R x 65C   [K, 7A, 6A, J, 47A, D, D, J, K, K, K, K, K, K, K, K, K, K, K, K, K, K, K, K, K, D, K, D, 6A, D, E, E, E, E, E, 1A, K, E, E, E, E, E, E, E, E, E, E, E, E, E, E, E, E, E, E, E, E, E, E, E, E, E, E, E, E]   \n",
      "Columns in HDU 1: ['TARGETID', 'SURVEY', 'PROGRAM', 'HEALPIX', 'Z', 'COEFF', 'RCHI2', 'RCHI2_CONT', 'RCHI2_PHOT', 'SNR_B', 'SNR_R', 'SNR_Z', 'SMOOTHCORR_B', 'SMOOTHCORR_R', 'SMOOTHCORR_Z', 'VDISP', 'VDISP_IVAR', 'AV', 'AGE', 'ZZSUN', 'LOGMSTAR', 'SFR', 'DN4000', 'DN4000_OBS', 'DN4000_IVAR', 'DN4000_MODEL', 'FLUX_SYNTH_G', 'FLUX_SYNTH_R', 'FLUX_SYNTH_Z', 'FLUX_SYNTH_SPECMODEL_G', 'FLUX_SYNTH_SPECMODEL_R', 'FLUX_SYNTH_SPECMODEL_Z', 'FLUX_SYNTH_PHOTMODEL_G', 'FLUX_SYNTH_PHOTMODEL_R', 'FLUX_SYNTH_PHOTMODEL_Z', 'FLUX_SYNTH_PHOTMODEL_W1', 'FLUX_SYNTH_PHOTMODEL_W2', 'FLUX_SYNTH_PHOTMODEL_W3', 'FLUX_SYNTH_PHOTMODEL_W4', 'ABSMAG10_DECAM_G', 'ABSMAG10_IVAR_DECAM_G', 'KCORR10_DECAM_G', 'ABSMAG10_DECAM_R', 'ABSMAG10_IVAR_DECAM_R', 'KCORR10_DECAM_R', 'ABSMAG10_DECAM_Z', 'ABSMAG10_IVAR_DECAM_Z', 'KCORR10_DECAM_Z', 'ABSMAG00_U', 'ABSMAG00_IVAR_U', 'KCORR00_U', 'ABSMAG00_B', 'ABSMAG00_IVAR_B', 'KCORR00_B', 'ABSMAG00_V', 'ABSMAG00_IVAR_V', 'KCORR00_V', 'ABSMAG01_SDSS_U', 'ABSMAG01_IVAR_SDSS_U', 'KCORR01_SDSS_U', 'ABSMAG01_SDSS_G', 'ABSMAG01_IVAR_SDSS_G', 'KCORR01_SDSS_G', 'ABSMAG01_SDSS_R', 'ABSMAG01_IVAR_SDSS_R', 'KCORR01_SDSS_R', 'ABSMAG01_SDSS_I', 'ABSMAG01_IVAR_SDSS_I', 'KCORR01_SDSS_I', 'ABSMAG01_SDSS_Z', 'ABSMAG01_IVAR_SDSS_Z', 'KCORR01_SDSS_Z', 'ABSMAG01_W1', 'ABSMAG01_IVAR_W1', 'KCORR01_W1', 'LOGLNU_1500', 'LOGLNU_2800', 'LOGL_1450', 'LOGL_1700', 'LOGL_3000', 'LOGL_5100', 'FLYA_1215_CONT', 'FOII_3727_CONT', 'FHBETA_CONT', 'FOIII_5007_CONT', 'FHALPHA_CONT', 'RCHI2_LINE', 'DELTA_LINECHI2', 'DELTA_LINENDOF', 'APERCORR', 'APERCORR_G', 'APERCORR_R', 'APERCORR_Z', 'NARROW_Z', 'NARROW_ZRMS', 'BROAD_Z', 'BROAD_ZRMS', 'UV_Z', 'UV_ZRMS', 'NARROW_SIGMA', 'NARROW_SIGMARMS', 'BROAD_SIGMA', 'BROAD_SIGMARMS', 'UV_SIGMA', 'UV_SIGMARMS', 'MGII_DOUBLET_RATIO', 'OII_DOUBLET_RATIO', 'SII_DOUBLET_RATIO', 'LYALPHA_MODELAMP', 'LYALPHA_AMP', 'LYALPHA_AMP_IVAR', 'LYALPHA_FLUX', 'LYALPHA_FLUX_IVAR', 'LYALPHA_BOXFLUX', 'LYALPHA_BOXFLUX_IVAR', 'LYALPHA_VSHIFT', 'LYALPHA_SIGMA', 'LYALPHA_CONT', 'LYALPHA_CONT_IVAR', 'LYALPHA_EW', 'LYALPHA_EW_IVAR', 'LYALPHA_FLUX_LIMIT', 'LYALPHA_EW_LIMIT', 'LYALPHA_CHI2', 'LYALPHA_NPIX', 'OI_1304_MODELAMP', 'OI_1304_AMP', 'OI_1304_AMP_IVAR', 'OI_1304_FLUX', 'OI_1304_FLUX_IVAR', 'OI_1304_BOXFLUX', 'OI_1304_BOXFLUX_IVAR', 'OI_1304_VSHIFT', 'OI_1304_SIGMA', 'OI_1304_CONT', 'OI_1304_CONT_IVAR', 'OI_1304_EW', 'OI_1304_EW_IVAR', 'OI_1304_FLUX_LIMIT', 'OI_1304_EW_LIMIT', 'OI_1304_CHI2', 'OI_1304_NPIX', 'SILIV_1396_MODELAMP', 'SILIV_1396_AMP', 'SILIV_1396_AMP_IVAR', 'SILIV_1396_FLUX', 'SILIV_1396_FLUX_IVAR', 'SILIV_1396_BOXFLUX', 'SILIV_1396_BOXFLUX_IVAR', 'SILIV_1396_VSHIFT', 'SILIV_1396_SIGMA', 'SILIV_1396_CONT', 'SILIV_1396_CONT_IVAR', 'SILIV_1396_EW', 'SILIV_1396_EW_IVAR', 'SILIV_1396_FLUX_LIMIT', 'SILIV_1396_EW_LIMIT', 'SILIV_1396_CHI2', 'SILIV_1396_NPIX', 'CIV_1549_MODELAMP', 'CIV_1549_AMP', 'CIV_1549_AMP_IVAR', 'CIV_1549_FLUX', 'CIV_1549_FLUX_IVAR', 'CIV_1549_BOXFLUX', 'CIV_1549_BOXFLUX_IVAR', 'CIV_1549_VSHIFT', 'CIV_1549_SIGMA', 'CIV_1549_CONT', 'CIV_1549_CONT_IVAR', 'CIV_1549_EW', 'CIV_1549_EW_IVAR', 'CIV_1549_FLUX_LIMIT', 'CIV_1549_EW_LIMIT', 'CIV_1549_CHI2', 'CIV_1549_NPIX', 'HEII_1640_MODELAMP', 'HEII_1640_AMP', 'HEII_1640_AMP_IVAR', 'HEII_1640_FLUX', 'HEII_1640_FLUX_IVAR', 'HEII_1640_BOXFLUX', 'HEII_1640_BOXFLUX_IVAR', 'HEII_1640_VSHIFT', 'HEII_1640_SIGMA', 'HEII_1640_CONT', 'HEII_1640_CONT_IVAR', 'HEII_1640_EW', 'HEII_1640_EW_IVAR', 'HEII_1640_FLUX_LIMIT', 'HEII_1640_EW_LIMIT', 'HEII_1640_CHI2', 'HEII_1640_NPIX', 'ALIII_1857_MODELAMP', 'ALIII_1857_AMP', 'ALIII_1857_AMP_IVAR', 'ALIII_1857_FLUX', 'ALIII_1857_FLUX_IVAR', 'ALIII_1857_BOXFLUX', 'ALIII_1857_BOXFLUX_IVAR', 'ALIII_1857_VSHIFT', 'ALIII_1857_SIGMA', 'ALIII_1857_CONT', 'ALIII_1857_CONT_IVAR', 'ALIII_1857_EW', 'ALIII_1857_EW_IVAR', 'ALIII_1857_FLUX_LIMIT', 'ALIII_1857_EW_LIMIT', 'ALIII_1857_CHI2', 'ALIII_1857_NPIX', 'SILIII_1892_MODELAMP', 'SILIII_1892_AMP', 'SILIII_1892_AMP_IVAR', 'SILIII_1892_FLUX', 'SILIII_1892_FLUX_IVAR', 'SILIII_1892_BOXFLUX', 'SILIII_1892_BOXFLUX_IVAR', 'SILIII_1892_VSHIFT', 'SILIII_1892_SIGMA', 'SILIII_1892_CONT', 'SILIII_1892_CONT_IVAR', 'SILIII_1892_EW', 'SILIII_1892_EW_IVAR', 'SILIII_1892_FLUX_LIMIT', 'SILIII_1892_EW_LIMIT', 'SILIII_1892_CHI2', 'SILIII_1892_NPIX', 'CIII_1908_MODELAMP', 'CIII_1908_AMP', 'CIII_1908_AMP_IVAR', 'CIII_1908_FLUX', 'CIII_1908_FLUX_IVAR', 'CIII_1908_BOXFLUX', 'CIII_1908_BOXFLUX_IVAR', 'CIII_1908_VSHIFT', 'CIII_1908_SIGMA', 'CIII_1908_CONT', 'CIII_1908_CONT_IVAR', 'CIII_1908_EW', 'CIII_1908_EW_IVAR', 'CIII_1908_FLUX_LIMIT', 'CIII_1908_EW_LIMIT', 'CIII_1908_CHI2', 'CIII_1908_NPIX', 'MGII_2796_MODELAMP', 'MGII_2796_AMP', 'MGII_2796_AMP_IVAR', 'MGII_2796_FLUX', 'MGII_2796_FLUX_IVAR', 'MGII_2796_BOXFLUX', 'MGII_2796_BOXFLUX_IVAR', 'MGII_2796_VSHIFT', 'MGII_2796_SIGMA', 'MGII_2796_CONT', 'MGII_2796_CONT_IVAR', 'MGII_2796_EW', 'MGII_2796_EW_IVAR', 'MGII_2796_FLUX_LIMIT', 'MGII_2796_EW_LIMIT', 'MGII_2796_CHI2', 'MGII_2796_NPIX', 'MGII_2803_MODELAMP', 'MGII_2803_AMP', 'MGII_2803_AMP_IVAR', 'MGII_2803_FLUX', 'MGII_2803_FLUX_IVAR', 'MGII_2803_BOXFLUX', 'MGII_2803_BOXFLUX_IVAR', 'MGII_2803_VSHIFT', 'MGII_2803_SIGMA', 'MGII_2803_CONT', 'MGII_2803_CONT_IVAR', 'MGII_2803_EW', 'MGII_2803_EW_IVAR', 'MGII_2803_FLUX_LIMIT', 'MGII_2803_EW_LIMIT', 'MGII_2803_CHI2', 'MGII_2803_NPIX', 'NEV_3346_MODELAMP', 'NEV_3346_AMP', 'NEV_3346_AMP_IVAR', 'NEV_3346_FLUX', 'NEV_3346_FLUX_IVAR', 'NEV_3346_BOXFLUX', 'NEV_3346_BOXFLUX_IVAR', 'NEV_3346_VSHIFT', 'NEV_3346_SIGMA', 'NEV_3346_CONT', 'NEV_3346_CONT_IVAR', 'NEV_3346_EW', 'NEV_3346_EW_IVAR', 'NEV_3346_FLUX_LIMIT', 'NEV_3346_EW_LIMIT', 'NEV_3346_CHI2', 'NEV_3346_NPIX', 'NEV_3426_MODELAMP', 'NEV_3426_AMP', 'NEV_3426_AMP_IVAR', 'NEV_3426_FLUX', 'NEV_3426_FLUX_IVAR', 'NEV_3426_BOXFLUX', 'NEV_3426_BOXFLUX_IVAR', 'NEV_3426_VSHIFT', 'NEV_3426_SIGMA', 'NEV_3426_CONT', 'NEV_3426_CONT_IVAR', 'NEV_3426_EW', 'NEV_3426_EW_IVAR', 'NEV_3426_FLUX_LIMIT', 'NEV_3426_EW_LIMIT', 'NEV_3426_CHI2', 'NEV_3426_NPIX', 'OII_3726_MODELAMP', 'OII_3726_AMP', 'OII_3726_AMP_IVAR', 'OII_3726_FLUX', 'OII_3726_FLUX_IVAR', 'OII_3726_BOXFLUX', 'OII_3726_BOXFLUX_IVAR', 'OII_3726_VSHIFT', 'OII_3726_SIGMA', 'OII_3726_CONT', 'OII_3726_CONT_IVAR', 'OII_3726_EW', 'OII_3726_EW_IVAR', 'OII_3726_FLUX_LIMIT', 'OII_3726_EW_LIMIT', 'OII_3726_CHI2', 'OII_3726_NPIX', 'OII_3729_MODELAMP', 'OII_3729_AMP', 'OII_3729_AMP_IVAR', 'OII_3729_FLUX', 'OII_3729_FLUX_IVAR', 'OII_3729_BOXFLUX', 'OII_3729_BOXFLUX_IVAR', 'OII_3729_VSHIFT', 'OII_3729_SIGMA', 'OII_3729_CONT', 'OII_3729_CONT_IVAR', 'OII_3729_EW', 'OII_3729_EW_IVAR', 'OII_3729_FLUX_LIMIT', 'OII_3729_EW_LIMIT', 'OII_3729_CHI2', 'OII_3729_NPIX', 'NEIII_3869_MODELAMP', 'NEIII_3869_AMP', 'NEIII_3869_AMP_IVAR', 'NEIII_3869_FLUX', 'NEIII_3869_FLUX_IVAR', 'NEIII_3869_BOXFLUX', 'NEIII_3869_BOXFLUX_IVAR', 'NEIII_3869_VSHIFT', 'NEIII_3869_SIGMA', 'NEIII_3869_CONT', 'NEIII_3869_CONT_IVAR', 'NEIII_3869_EW', 'NEIII_3869_EW_IVAR', 'NEIII_3869_FLUX_LIMIT', 'NEIII_3869_EW_LIMIT', 'NEIII_3869_CHI2', 'NEIII_3869_NPIX', 'H6_MODELAMP', 'H6_AMP', 'H6_AMP_IVAR', 'H6_FLUX', 'H6_FLUX_IVAR', 'H6_BOXFLUX', 'H6_BOXFLUX_IVAR', 'H6_VSHIFT', 'H6_SIGMA', 'H6_CONT', 'H6_CONT_IVAR', 'H6_EW', 'H6_EW_IVAR', 'H6_FLUX_LIMIT', 'H6_EW_LIMIT', 'H6_CHI2', 'H6_NPIX', 'H6_BROAD_MODELAMP', 'H6_BROAD_AMP', 'H6_BROAD_AMP_IVAR', 'H6_BROAD_FLUX', 'H6_BROAD_FLUX_IVAR', 'H6_BROAD_BOXFLUX', 'H6_BROAD_BOXFLUX_IVAR', 'H6_BROAD_VSHIFT', 'H6_BROAD_SIGMA', 'H6_BROAD_CONT', 'H6_BROAD_CONT_IVAR', 'H6_BROAD_EW', 'H6_BROAD_EW_IVAR', 'H6_BROAD_FLUX_LIMIT', 'H6_BROAD_EW_LIMIT', 'H6_BROAD_CHI2', 'H6_BROAD_NPIX', 'HEPSILON_MODELAMP', 'HEPSILON_AMP', 'HEPSILON_AMP_IVAR', 'HEPSILON_FLUX', 'HEPSILON_FLUX_IVAR', 'HEPSILON_BOXFLUX', 'HEPSILON_BOXFLUX_IVAR', 'HEPSILON_VSHIFT', 'HEPSILON_SIGMA', 'HEPSILON_CONT', 'HEPSILON_CONT_IVAR', 'HEPSILON_EW', 'HEPSILON_EW_IVAR', 'HEPSILON_FLUX_LIMIT', 'HEPSILON_EW_LIMIT', 'HEPSILON_CHI2', 'HEPSILON_NPIX', 'HEPSILON_BROAD_MODELAMP', 'HEPSILON_BROAD_AMP', 'HEPSILON_BROAD_AMP_IVAR', 'HEPSILON_BROAD_FLUX', 'HEPSILON_BROAD_FLUX_IVAR', 'HEPSILON_BROAD_BOXFLUX', 'HEPSILON_BROAD_BOXFLUX_IVAR', 'HEPSILON_BROAD_VSHIFT', 'HEPSILON_BROAD_SIGMA', 'HEPSILON_BROAD_CONT', 'HEPSILON_BROAD_CONT_IVAR', 'HEPSILON_BROAD_EW', 'HEPSILON_BROAD_EW_IVAR', 'HEPSILON_BROAD_FLUX_LIMIT', 'HEPSILON_BROAD_EW_LIMIT', 'HEPSILON_BROAD_CHI2', 'HEPSILON_BROAD_NPIX', 'HDELTA_MODELAMP', 'HDELTA_AMP', 'HDELTA_AMP_IVAR', 'HDELTA_FLUX', 'HDELTA_FLUX_IVAR', 'HDELTA_BOXFLUX', 'HDELTA_BOXFLUX_IVAR', 'HDELTA_VSHIFT', 'HDELTA_SIGMA', 'HDELTA_CONT', 'HDELTA_CONT_IVAR', 'HDELTA_EW', 'HDELTA_EW_IVAR', 'HDELTA_FLUX_LIMIT', 'HDELTA_EW_LIMIT', 'HDELTA_CHI2', 'HDELTA_NPIX', 'HDELTA_BROAD_MODELAMP', 'HDELTA_BROAD_AMP', 'HDELTA_BROAD_AMP_IVAR', 'HDELTA_BROAD_FLUX', 'HDELTA_BROAD_FLUX_IVAR', 'HDELTA_BROAD_BOXFLUX', 'HDELTA_BROAD_BOXFLUX_IVAR', 'HDELTA_BROAD_VSHIFT', 'HDELTA_BROAD_SIGMA', 'HDELTA_BROAD_CONT', 'HDELTA_BROAD_CONT_IVAR', 'HDELTA_BROAD_EW', 'HDELTA_BROAD_EW_IVAR', 'HDELTA_BROAD_FLUX_LIMIT', 'HDELTA_BROAD_EW_LIMIT', 'HDELTA_BROAD_CHI2', 'HDELTA_BROAD_NPIX', 'HGAMMA_MODELAMP', 'HGAMMA_AMP', 'HGAMMA_AMP_IVAR', 'HGAMMA_FLUX', 'HGAMMA_FLUX_IVAR', 'HGAMMA_BOXFLUX', 'HGAMMA_BOXFLUX_IVAR', 'HGAMMA_VSHIFT', 'HGAMMA_SIGMA', 'HGAMMA_CONT', 'HGAMMA_CONT_IVAR', 'HGAMMA_EW', 'HGAMMA_EW_IVAR', 'HGAMMA_FLUX_LIMIT', 'HGAMMA_EW_LIMIT', 'HGAMMA_CHI2', 'HGAMMA_NPIX', 'HGAMMA_BROAD_MODELAMP', 'HGAMMA_BROAD_AMP', 'HGAMMA_BROAD_AMP_IVAR', 'HGAMMA_BROAD_FLUX', 'HGAMMA_BROAD_FLUX_IVAR', 'HGAMMA_BROAD_BOXFLUX', 'HGAMMA_BROAD_BOXFLUX_IVAR', 'HGAMMA_BROAD_VSHIFT', 'HGAMMA_BROAD_SIGMA', 'HGAMMA_BROAD_CONT', 'HGAMMA_BROAD_CONT_IVAR', 'HGAMMA_BROAD_EW', 'HGAMMA_BROAD_EW_IVAR', 'HGAMMA_BROAD_FLUX_LIMIT', 'HGAMMA_BROAD_EW_LIMIT', 'HGAMMA_BROAD_CHI2', 'HGAMMA_BROAD_NPIX', 'OIII_4363_MODELAMP', 'OIII_4363_AMP', 'OIII_4363_AMP_IVAR', 'OIII_4363_FLUX', 'OIII_4363_FLUX_IVAR', 'OIII_4363_BOXFLUX', 'OIII_4363_BOXFLUX_IVAR', 'OIII_4363_VSHIFT', 'OIII_4363_SIGMA', 'OIII_4363_CONT', 'OIII_4363_CONT_IVAR', 'OIII_4363_EW', 'OIII_4363_EW_IVAR', 'OIII_4363_FLUX_LIMIT', 'OIII_4363_EW_LIMIT', 'OIII_4363_CHI2', 'OIII_4363_NPIX', 'HEI_4471_MODELAMP', 'HEI_4471_AMP', 'HEI_4471_AMP_IVAR', 'HEI_4471_FLUX', 'HEI_4471_FLUX_IVAR', 'HEI_4471_BOXFLUX', 'HEI_4471_BOXFLUX_IVAR', 'HEI_4471_VSHIFT', 'HEI_4471_SIGMA', 'HEI_4471_CONT', 'HEI_4471_CONT_IVAR', 'HEI_4471_EW', 'HEI_4471_EW_IVAR', 'HEI_4471_FLUX_LIMIT', 'HEI_4471_EW_LIMIT', 'HEI_4471_CHI2', 'HEI_4471_NPIX', 'HEI_BROAD_4471_MODELAMP', 'HEI_BROAD_4471_AMP', 'HEI_BROAD_4471_AMP_IVAR', 'HEI_BROAD_4471_FLUX', 'HEI_BROAD_4471_FLUX_IVAR', 'HEI_BROAD_4471_BOXFLUX', 'HEI_BROAD_4471_BOXFLUX_IVAR', 'HEI_BROAD_4471_VSHIFT', 'HEI_BROAD_4471_SIGMA', 'HEI_BROAD_4471_CONT', 'HEI_BROAD_4471_CONT_IVAR', 'HEI_BROAD_4471_EW', 'HEI_BROAD_4471_EW_IVAR', 'HEI_BROAD_4471_FLUX_LIMIT', 'HEI_BROAD_4471_EW_LIMIT', 'HEI_BROAD_4471_CHI2', 'HEI_BROAD_4471_NPIX', 'HEII_4686_MODELAMP', 'HEII_4686_AMP', 'HEII_4686_AMP_IVAR', 'HEII_4686_FLUX', 'HEII_4686_FLUX_IVAR', 'HEII_4686_BOXFLUX', 'HEII_4686_BOXFLUX_IVAR', 'HEII_4686_VSHIFT', 'HEII_4686_SIGMA', 'HEII_4686_CONT', 'HEII_4686_CONT_IVAR', 'HEII_4686_EW', 'HEII_4686_EW_IVAR', 'HEII_4686_FLUX_LIMIT', 'HEII_4686_EW_LIMIT', 'HEII_4686_CHI2', 'HEII_4686_NPIX', 'HEII_BROAD_4686_MODELAMP', 'HEII_BROAD_4686_AMP', 'HEII_BROAD_4686_AMP_IVAR', 'HEII_BROAD_4686_FLUX', 'HEII_BROAD_4686_FLUX_IVAR', 'HEII_BROAD_4686_BOXFLUX', 'HEII_BROAD_4686_BOXFLUX_IVAR', 'HEII_BROAD_4686_VSHIFT', 'HEII_BROAD_4686_SIGMA', 'HEII_BROAD_4686_CONT', 'HEII_BROAD_4686_CONT_IVAR', 'HEII_BROAD_4686_EW', 'HEII_BROAD_4686_EW_IVAR', 'HEII_BROAD_4686_FLUX_LIMIT', 'HEII_BROAD_4686_EW_LIMIT', 'HEII_BROAD_4686_CHI2', 'HEII_BROAD_4686_NPIX', 'HBETA_MODELAMP', 'HBETA_AMP', 'HBETA_AMP_IVAR', 'HBETA_FLUX', 'HBETA_FLUX_IVAR', 'HBETA_BOXFLUX', 'HBETA_BOXFLUX_IVAR', 'HBETA_VSHIFT', 'HBETA_SIGMA', 'HBETA_CONT', 'HBETA_CONT_IVAR', 'HBETA_EW', 'HBETA_EW_IVAR', 'HBETA_FLUX_LIMIT', 'HBETA_EW_LIMIT', 'HBETA_CHI2', 'HBETA_NPIX', 'HBETA_BROAD_MODELAMP', 'HBETA_BROAD_AMP', 'HBETA_BROAD_AMP_IVAR', 'HBETA_BROAD_FLUX', 'HBETA_BROAD_FLUX_IVAR', 'HBETA_BROAD_BOXFLUX', 'HBETA_BROAD_BOXFLUX_IVAR', 'HBETA_BROAD_VSHIFT', 'HBETA_BROAD_SIGMA', 'HBETA_BROAD_CONT', 'HBETA_BROAD_CONT_IVAR', 'HBETA_BROAD_EW', 'HBETA_BROAD_EW_IVAR', 'HBETA_BROAD_FLUX_LIMIT', 'HBETA_BROAD_EW_LIMIT', 'HBETA_BROAD_CHI2', 'HBETA_BROAD_NPIX', 'OIII_4959_MODELAMP', 'OIII_4959_AMP', 'OIII_4959_AMP_IVAR', 'OIII_4959_FLUX', 'OIII_4959_FLUX_IVAR', 'OIII_4959_BOXFLUX', 'OIII_4959_BOXFLUX_IVAR', 'OIII_4959_VSHIFT', 'OIII_4959_SIGMA', 'OIII_4959_CONT', 'OIII_4959_CONT_IVAR', 'OIII_4959_EW', 'OIII_4959_EW_IVAR', 'OIII_4959_FLUX_LIMIT', 'OIII_4959_EW_LIMIT', 'OIII_4959_CHI2', 'OIII_4959_NPIX', 'OIII_5007_MODELAMP', 'OIII_5007_AMP', 'OIII_5007_AMP_IVAR', 'OIII_5007_FLUX', 'OIII_5007_FLUX_IVAR', 'OIII_5007_BOXFLUX', 'OIII_5007_BOXFLUX_IVAR', 'OIII_5007_VSHIFT', 'OIII_5007_SIGMA', 'OIII_5007_CONT', 'OIII_5007_CONT_IVAR', 'OIII_5007_EW', 'OIII_5007_EW_IVAR', 'OIII_5007_FLUX_LIMIT', 'OIII_5007_EW_LIMIT', 'OIII_5007_CHI2', 'OIII_5007_NPIX', 'NII_5755_MODELAMP', 'NII_5755_AMP', 'NII_5755_AMP_IVAR', 'NII_5755_FLUX', 'NII_5755_FLUX_IVAR', 'NII_5755_BOXFLUX', 'NII_5755_BOXFLUX_IVAR', 'NII_5755_VSHIFT', 'NII_5755_SIGMA', 'NII_5755_CONT', 'NII_5755_CONT_IVAR', 'NII_5755_EW', 'NII_5755_EW_IVAR', 'NII_5755_FLUX_LIMIT', 'NII_5755_EW_LIMIT', 'NII_5755_CHI2', 'NII_5755_NPIX', 'HEI_5876_MODELAMP', 'HEI_5876_AMP', 'HEI_5876_AMP_IVAR', 'HEI_5876_FLUX', 'HEI_5876_FLUX_IVAR', 'HEI_5876_BOXFLUX', 'HEI_5876_BOXFLUX_IVAR', 'HEI_5876_VSHIFT', 'HEI_5876_SIGMA', 'HEI_5876_CONT', 'HEI_5876_CONT_IVAR', 'HEI_5876_EW', 'HEI_5876_EW_IVAR', 'HEI_5876_FLUX_LIMIT', 'HEI_5876_EW_LIMIT', 'HEI_5876_CHI2', 'HEI_5876_NPIX', 'HEI_BROAD_5876_MODELAMP', 'HEI_BROAD_5876_AMP', 'HEI_BROAD_5876_AMP_IVAR', 'HEI_BROAD_5876_FLUX', 'HEI_BROAD_5876_FLUX_IVAR', 'HEI_BROAD_5876_BOXFLUX', 'HEI_BROAD_5876_BOXFLUX_IVAR', 'HEI_BROAD_5876_VSHIFT', 'HEI_BROAD_5876_SIGMA', 'HEI_BROAD_5876_CONT', 'HEI_BROAD_5876_CONT_IVAR', 'HEI_BROAD_5876_EW', 'HEI_BROAD_5876_EW_IVAR', 'HEI_BROAD_5876_FLUX_LIMIT', 'HEI_BROAD_5876_EW_LIMIT', 'HEI_BROAD_5876_CHI2', 'HEI_BROAD_5876_NPIX', 'OI_6300_MODELAMP', 'OI_6300_AMP', 'OI_6300_AMP_IVAR', 'OI_6300_FLUX', 'OI_6300_FLUX_IVAR', 'OI_6300_BOXFLUX', 'OI_6300_BOXFLUX_IVAR', 'OI_6300_VSHIFT', 'OI_6300_SIGMA', 'OI_6300_CONT', 'OI_6300_CONT_IVAR', 'OI_6300_EW', 'OI_6300_EW_IVAR', 'OI_6300_FLUX_LIMIT', 'OI_6300_EW_LIMIT', 'OI_6300_CHI2', 'OI_6300_NPIX', 'SIII_6312_MODELAMP', 'SIII_6312_AMP', 'SIII_6312_AMP_IVAR', 'SIII_6312_FLUX', 'SIII_6312_FLUX_IVAR', 'SIII_6312_BOXFLUX', 'SIII_6312_BOXFLUX_IVAR', 'SIII_6312_VSHIFT', 'SIII_6312_SIGMA', 'SIII_6312_CONT', 'SIII_6312_CONT_IVAR', 'SIII_6312_EW', 'SIII_6312_EW_IVAR', 'SIII_6312_FLUX_LIMIT', 'SIII_6312_EW_LIMIT', 'SIII_6312_CHI2', 'SIII_6312_NPIX', 'NII_6548_MODELAMP', 'NII_6548_AMP', 'NII_6548_AMP_IVAR', 'NII_6548_FLUX', 'NII_6548_FLUX_IVAR', 'NII_6548_BOXFLUX', 'NII_6548_BOXFLUX_IVAR', 'NII_6548_VSHIFT', 'NII_6548_SIGMA', 'NII_6548_CONT', 'NII_6548_CONT_IVAR', 'NII_6548_EW', 'NII_6548_EW_IVAR', 'NII_6548_FLUX_LIMIT', 'NII_6548_EW_LIMIT', 'NII_6548_CHI2', 'NII_6548_NPIX', 'HALPHA_MODELAMP', 'HALPHA_AMP', 'HALPHA_AMP_IVAR', 'HALPHA_FLUX', 'HALPHA_FLUX_IVAR', 'HALPHA_BOXFLUX', 'HALPHA_BOXFLUX_IVAR', 'HALPHA_VSHIFT', 'HALPHA_SIGMA', 'HALPHA_CONT', 'HALPHA_CONT_IVAR', 'HALPHA_EW', 'HALPHA_EW_IVAR', 'HALPHA_FLUX_LIMIT', 'HALPHA_EW_LIMIT', 'HALPHA_CHI2', 'HALPHA_NPIX', 'HALPHA_BROAD_MODELAMP', 'HALPHA_BROAD_AMP', 'HALPHA_BROAD_AMP_IVAR', 'HALPHA_BROAD_FLUX', 'HALPHA_BROAD_FLUX_IVAR', 'HALPHA_BROAD_BOXFLUX', 'HALPHA_BROAD_BOXFLUX_IVAR', 'HALPHA_BROAD_VSHIFT', 'HALPHA_BROAD_SIGMA', 'HALPHA_BROAD_CONT', 'HALPHA_BROAD_CONT_IVAR', 'HALPHA_BROAD_EW', 'HALPHA_BROAD_EW_IVAR', 'HALPHA_BROAD_FLUX_LIMIT', 'HALPHA_BROAD_EW_LIMIT', 'HALPHA_BROAD_CHI2', 'HALPHA_BROAD_NPIX', 'NII_6584_MODELAMP', 'NII_6584_AMP', 'NII_6584_AMP_IVAR', 'NII_6584_FLUX', 'NII_6584_FLUX_IVAR', 'NII_6584_BOXFLUX', 'NII_6584_BOXFLUX_IVAR', 'NII_6584_VSHIFT', 'NII_6584_SIGMA', 'NII_6584_CONT', 'NII_6584_CONT_IVAR', 'NII_6584_EW', 'NII_6584_EW_IVAR', 'NII_6584_FLUX_LIMIT', 'NII_6584_EW_LIMIT', 'NII_6584_CHI2', 'NII_6584_NPIX', 'SII_6716_MODELAMP', 'SII_6716_AMP', 'SII_6716_AMP_IVAR', 'SII_6716_FLUX', 'SII_6716_FLUX_IVAR', 'SII_6716_BOXFLUX', 'SII_6716_BOXFLUX_IVAR', 'SII_6716_VSHIFT', 'SII_6716_SIGMA', 'SII_6716_CONT', 'SII_6716_CONT_IVAR', 'SII_6716_EW', 'SII_6716_EW_IVAR', 'SII_6716_FLUX_LIMIT', 'SII_6716_EW_LIMIT', 'SII_6716_CHI2', 'SII_6716_NPIX', 'SII_6731_MODELAMP', 'SII_6731_AMP', 'SII_6731_AMP_IVAR', 'SII_6731_FLUX', 'SII_6731_FLUX_IVAR', 'SII_6731_BOXFLUX', 'SII_6731_BOXFLUX_IVAR', 'SII_6731_VSHIFT', 'SII_6731_SIGMA', 'SII_6731_CONT', 'SII_6731_CONT_IVAR', 'SII_6731_EW', 'SII_6731_EW_IVAR', 'SII_6731_FLUX_LIMIT', 'SII_6731_EW_LIMIT', 'SII_6731_CHI2', 'SII_6731_NPIX', 'OII_7320_MODELAMP', 'OII_7320_AMP', 'OII_7320_AMP_IVAR', 'OII_7320_FLUX', 'OII_7320_FLUX_IVAR', 'OII_7320_BOXFLUX', 'OII_7320_BOXFLUX_IVAR', 'OII_7320_VSHIFT', 'OII_7320_SIGMA', 'OII_7320_CONT', 'OII_7320_CONT_IVAR', 'OII_7320_EW', 'OII_7320_EW_IVAR', 'OII_7320_FLUX_LIMIT', 'OII_7320_EW_LIMIT', 'OII_7320_CHI2', 'OII_7320_NPIX', 'OII_7330_MODELAMP', 'OII_7330_AMP', 'OII_7330_AMP_IVAR', 'OII_7330_FLUX', 'OII_7330_FLUX_IVAR', 'OII_7330_BOXFLUX', 'OII_7330_BOXFLUX_IVAR', 'OII_7330_VSHIFT', 'OII_7330_SIGMA', 'OII_7330_CONT', 'OII_7330_CONT_IVAR', 'OII_7330_EW', 'OII_7330_EW_IVAR', 'OII_7330_FLUX_LIMIT', 'OII_7330_EW_LIMIT', 'OII_7330_CHI2', 'OII_7330_NPIX', 'SIII_9069_MODELAMP', 'SIII_9069_AMP', 'SIII_9069_AMP_IVAR', 'SIII_9069_FLUX', 'SIII_9069_FLUX_IVAR', 'SIII_9069_BOXFLUX', 'SIII_9069_BOXFLUX_IVAR', 'SIII_9069_VSHIFT', 'SIII_9069_SIGMA', 'SIII_9069_CONT', 'SIII_9069_CONT_IVAR', 'SIII_9069_EW', 'SIII_9069_EW_IVAR', 'SIII_9069_FLUX_LIMIT', 'SIII_9069_EW_LIMIT', 'SIII_9069_CHI2', 'SIII_9069_NPIX', 'SIII_9532_MODELAMP', 'SIII_9532_AMP', 'SIII_9532_AMP_IVAR', 'SIII_9532_FLUX', 'SIII_9532_FLUX_IVAR', 'SIII_9532_BOXFLUX', 'SIII_9532_BOXFLUX_IVAR', 'SIII_9532_VSHIFT', 'SIII_9532_SIGMA', 'SIII_9532_CONT', 'SIII_9532_CONT_IVAR', 'SIII_9532_EW', 'SIII_9532_EW_IVAR', 'SIII_9532_FLUX_LIMIT', 'SIII_9532_EW_LIMIT', 'SIII_9532_CHI2', 'SIII_9532_NPIX']\n",
      "Columns in HDU 2: ['TARGETID', 'SURVEY', 'PROGRAM', 'HEALPIX', 'TILEID_LIST', 'RA', 'DEC', 'COADD_FIBERSTATUS', 'CMX_TARGET', 'DESI_TARGET', 'BGS_TARGET', 'MWS_TARGET', 'SCND_TARGET', 'SV1_DESI_TARGET', 'SV1_BGS_TARGET', 'SV1_MWS_TARGET', 'SV2_DESI_TARGET', 'SV2_BGS_TARGET', 'SV2_MWS_TARGET', 'SV3_DESI_TARGET', 'SV3_BGS_TARGET', 'SV3_MWS_TARGET', 'SV1_SCND_TARGET', 'SV2_SCND_TARGET', 'SV3_SCND_TARGET', 'Z', 'ZWARN', 'DELTACHI2', 'SPECTYPE', 'Z_RR', 'TSNR2_BGS', 'TSNR2_LRG', 'TSNR2_ELG', 'TSNR2_QSO', 'TSNR2_LYA', 'PHOTSYS', 'LS_ID', 'FIBERFLUX_G', 'FIBERFLUX_R', 'FIBERFLUX_Z', 'FIBERTOTFLUX_G', 'FIBERTOTFLUX_R', 'FIBERTOTFLUX_Z', 'FLUX_G', 'FLUX_R', 'FLUX_Z', 'FLUX_W1', 'FLUX_W2', 'FLUX_W3', 'FLUX_W4', 'FLUX_IVAR_G', 'FLUX_IVAR_R', 'FLUX_IVAR_Z', 'FLUX_IVAR_W1', 'FLUX_IVAR_W2', 'FLUX_IVAR_W3', 'FLUX_IVAR_W4', 'EBV', 'MW_TRANSMISSION_G', 'MW_TRANSMISSION_R', 'MW_TRANSMISSION_Z', 'MW_TRANSMISSION_W1', 'MW_TRANSMISSION_W2', 'MW_TRANSMISSION_W3', 'MW_TRANSMISSION_W4']\n"
     ]
    }
   ],
   "source": [
    "from astropy.io import fits\n",
    "\n",
    "file_path = \"/Users/ziqimu/Desktop/fastspec-iron.fits\"\n",
    "\n",
    "with fits.open(file_path) as hdul:\n",
    "    hdul.info() \n",
    "    \n",
    "    if isinstance(hdul[1], fits.BinTableHDU):\n",
    "        columns_hdu1 = hdul[1].columns.names\n",
    "        print(\"Columns in HDU 1:\", columns_hdu1)\n",
    "\n",
    "    if len(hdul) > 2 and isinstance(hdul[2], fits.BinTableHDU):\n",
    "        columns_hdu2 = hdul[2].columns.names\n",
    "        print(\"Columns in HDU 2:\", columns_hdu2)\n"
   ]
  },
  {
   "cell_type": "code",
   "execution_count": 2,
   "id": "cc1bb839",
   "metadata": {},
   "outputs": [
    {
     "name": "stdout",
     "output_type": "stream",
     "text": [
      "Number of rows in HDU1: 17995820\n"
     ]
    }
   ],
   "source": [
    "with fits.open(file_path) as hdul:\n",
    "    hdu1 = hdul[1]\n",
    "    \n",
    "    num_rows = len(hdu1.data)\n",
    "    \n",
    "    print(f\"Number of rows in HDU1: {num_rows}\")"
   ]
  },
  {
   "cell_type": "code",
   "execution_count": 3,
   "id": "caeb22df",
   "metadata": {},
   "outputs": [],
   "source": [
    "with fits.open(file_path) as hdul:\n",
    "    hdu2 = hdul[2]\n",
    "    hdu1 = hdul[1]\n",
    "    \n",
    "    z_data = hdu2.data[\"Z\"]\n",
    "    Dec = hdu2.data[\"DEC\"]\n",
    "    Ra = hdu2.data[\"RA\"]\n",
    "    abs_magr_data = hdu1.data[\"ABSMAG01_SDSS_R\"]\n",
    "    abs_magu_data = hdu1.data[\"ABSMAG01_SDSS_U\"]\n",
    "    abs_magg_data = hdu1.data[\"ABSMAG01_SDSS_G\"]\n",
    "    logmstar_data = hdu1.data[\"LOGMSTAR\"]\n",
    "    halpha_data = hdu1.data[\"HALPHA_FLUX\"]\n",
    "    hbeta_data = hdu1.data[\"HBETA_FLUX\"]\n",
    "    sfr_data = hdu1.data[\"SFR\"]  \n",
    "    \n",
    "    fiber_flux_g = hdu2.data[\"FIBERFLUX_G\"]\n",
    "    fiber_flux_r = hdu2.data[\"FIBERFLUX_R\"]\n",
    "    fiber_flux_z = hdu2.data[\"FIBERFLUX_Z\"]\n",
    "    flux_g = hdu2.data[\"FLUX_G\"]\n",
    "    flux_r = hdu2.data[\"FLUX_R\"]\n",
    "    flux_z = hdu2.data[\"FLUX_Z\"]\n",
    "    \n",
    "    ew = hdu1.data[\"HALPHA_EW\"]"
   ]
  },
  {
   "cell_type": "markdown",
   "id": "dc9c81fa",
   "metadata": {},
   "source": [
    "### Redshift Z <= 0.12, apparent magnitude <= 17.8, and rows containing zero values are removed."
   ]
  },
  {
   "cell_type": "code",
   "execution_count": 4,
   "id": "2f5f35b8",
   "metadata": {},
   "outputs": [],
   "source": [
    "mask_z = z_data <= 0.12\n",
    "filtered_z = z_data[mask_z]\n",
    "filtered_dec = Dec[mask_z]\n",
    "filtered_ra = Ra[mask_z]\n",
    "filtered_abs_magr = abs_magr_data[mask_z]\n",
    "filtered_abs_magu = abs_magu_data[mask_z]\n",
    "filtered_abs_magg = abs_magg_data[mask_z]\n",
    "filtered_logmstar = logmstar_data[mask_z]\n",
    "filtered_halpha = halpha_data[mask_z]\n",
    "filtered_hbeta = hbeta_data[mask_z]\n",
    "filtered_sfr = sfr_data[mask_z]\n",
    "\n",
    "filtered_fiber_flux_g = fiber_flux_g[mask_z]\n",
    "filtered_fiber_flux_r = fiber_flux_r[mask_z]\n",
    "filtered_fiber_flux_z = fiber_flux_z[mask_z]\n",
    "filtered_flux_g = flux_g[mask_z]\n",
    "filtered_flux_r = flux_r[mask_z]\n",
    "filtered_flux_z = flux_z[mask_z]\n",
    "\n",
    "filtered_ew = ew[mask_z]\n",
    "\n"
   ]
  },
  {
   "cell_type": "code",
   "execution_count": 5,
   "id": "8c088313",
   "metadata": {},
   "outputs": [
    {
     "name": "stdout",
     "output_type": "stream",
     "text": [
      "Number of rows after filtering: 1415251\n",
      "1415251 1415251 1415251\n",
      "-23.773144 5.039431\n"
     ]
    }
   ],
   "source": [
    "print(f\"Number of rows after filtering: {len(filtered_abs_magr)}\")\n",
    "print(len(filtered_flux_r),len(filtered_ra), len(filtered_dec) )\n",
    "\n",
    "print(min(filtered_abs_magr), max(filtered_abs_magr))"
   ]
  },
  {
   "cell_type": "code",
   "execution_count": 6,
   "id": "bf55e9cc",
   "metadata": {},
   "outputs": [],
   "source": [
    "# calculate the apparent magnitude\n",
    "\n",
    "import numpy as np\n",
    "c = 3 * 10**5  \n",
    "H0 = 100     \n",
    "pc_to_mpc = 10**-6 \n",
    "\n",
    "apparent_magnitude = (\n",
    "    filtered_abs_magr + \n",
    "    5 * np.log10(filtered_z * c / H0 / (10 * pc_to_mpc))\n",
    ")"
   ]
  },
  {
   "cell_type": "code",
   "execution_count": 7,
   "id": "462ad93e",
   "metadata": {},
   "outputs": [],
   "source": [
    "mask_magnitude = apparent_magnitude <= 17.8  #remove rows when apparent magnitude > 17.8\n",
    "mask_valid_halpha_hbeta = (filtered_halpha != 0) & (filtered_hbeta != 0)  #remove rows when H_alpha and H_beta = 0\n",
    "mask_magnitude = mask_magnitude & mask_valid_halpha_hbeta\n",
    "\n",
    "final_filtered_z = filtered_z[mask_magnitude]\n",
    "final_filtered_dec = filtered_dec[mask_magnitude]\n",
    "final_filtered_ra = filtered_ra[mask_magnitude]\n",
    "final_filtered_abs_magr = filtered_abs_magr[mask_magnitude]\n",
    "final_filtered_abs_magu = filtered_abs_magu[mask_magnitude]\n",
    "final_filtered_abs_magg = filtered_abs_magg[mask_magnitude]\n",
    "final_filtered_logmstar = filtered_logmstar[mask_magnitude]\n",
    "final_filtered_halpha = filtered_halpha[mask_magnitude]\n",
    "final_filtered_hbeta = filtered_hbeta[mask_magnitude]\n",
    "final_filtered_sfr = filtered_sfr[mask_magnitude]\n",
    "final_filtered_apparent_magnitude = apparent_magnitude[mask_magnitude]\n",
    "\n",
    "final_filtered_fiber_flux_g = filtered_fiber_flux_g[mask_magnitude]\n",
    "final_filtered_fiber_flux_r = filtered_fiber_flux_r[mask_magnitude]\n",
    "final_filtered_fiber_flux_z = filtered_fiber_flux_z[mask_magnitude]\n",
    "final_filtered_flux_g = filtered_flux_g[mask_magnitude]\n",
    "final_filtered_flux_r = filtered_flux_r[mask_magnitude]\n",
    "final_filtered_flux_z = filtered_flux_z[mask_magnitude]\n",
    "\n",
    "final_filtered_ew = filtered_ew[mask_magnitude]"
   ]
  },
  {
   "cell_type": "code",
   "execution_count": 8,
   "id": "2fcd9951",
   "metadata": {},
   "outputs": [
    {
     "name": "stdout",
     "output_type": "stream",
     "text": [
      "295707 295707\n"
     ]
    }
   ],
   "source": [
    "print(len(final_filtered_flux_g), len(final_filtered_flux_r))\n"
   ]
  },
  {
   "cell_type": "code",
   "execution_count": 9,
   "id": "d8560020",
   "metadata": {},
   "outputs": [
    {
     "name": "stdout",
     "output_type": "stream",
     "text": [
      "Shape of final_filtered_fiber_flux_g: (295707,)\n",
      "Shape of final_filtered_fiber_flux_r: (295707,)\n",
      "Shape of final_filtered_fiber_flux_z: (295707,)\n",
      "Shape of final_filtered_flux_g: (295707,)\n",
      "Shape of final_filtered_flux_r: (295707,)\n",
      "Shape of final_filtered_flux_z: (295707,)\n",
      "Shape of final_filtered_z: (295707,)\n"
     ]
    }
   ],
   "source": [
    "print(\"Shape of final_filtered_fiber_flux_g:\", final_filtered_fiber_flux_g.shape)\n",
    "print(\"Shape of final_filtered_fiber_flux_r:\", final_filtered_fiber_flux_r.shape)\n",
    "print(\"Shape of final_filtered_fiber_flux_z:\", final_filtered_fiber_flux_z.shape)\n",
    "print(\"Shape of final_filtered_flux_g:\", final_filtered_flux_g.shape)\n",
    "print(\"Shape of final_filtered_flux_r:\", final_filtered_flux_r.shape)\n",
    "print(\"Shape of final_filtered_flux_z:\", final_filtered_flux_z.shape)\n",
    "print(\"Shape of final_filtered_z:\", final_filtered_z.shape)\n",
    "\n",
    "# remove cases when total flux and fiber flux = 0 and nan\n",
    "valid_mask = (~np.isnan(final_filtered_fiber_flux_g) & (final_filtered_fiber_flux_g != 0) &\n",
    "              ~np.isnan(final_filtered_fiber_flux_r) & (final_filtered_fiber_flux_r != 0) &\n",
    "              ~np.isnan(final_filtered_fiber_flux_z) & (final_filtered_fiber_flux_z != 0) &\n",
    "              ~np.isnan(final_filtered_flux_g) & (final_filtered_flux_g != 0) &\n",
    "              ~np.isnan(final_filtered_flux_r) & (final_filtered_flux_r != 0) &\n",
    "              ~np.isnan(final_filtered_flux_z) & (final_filtered_flux_z != 0))\n",
    "\n",
    "final_filtered_z = final_filtered_z[valid_mask]\n",
    "final_filtered_dec = final_filtered_dec[valid_mask]\n",
    "final_filtered_ra = final_filtered_ra[valid_mask]\n",
    "final_filtered_abs_magr = final_filtered_abs_magr[valid_mask]\n",
    "final_filtered_abs_magu = final_filtered_abs_magu[valid_mask]\n",
    "final_filtered_abs_magg = final_filtered_abs_magg[valid_mask]\n",
    "final_filtered_logmstar = final_filtered_logmstar[valid_mask]\n",
    "final_filtered_halpha = final_filtered_halpha[valid_mask]\n",
    "final_filtered_hbeta = final_filtered_hbeta[valid_mask]\n",
    "final_filtered_sfr = final_filtered_sfr[valid_mask]\n",
    "final_filtered_apparent_magnitude = final_filtered_apparent_magnitude[valid_mask]\n",
    "\n",
    "final_filtered_fiber_flux_g = final_filtered_fiber_flux_g[valid_mask]\n",
    "final_filtered_fiber_flux_r = final_filtered_fiber_flux_r[valid_mask]\n",
    "final_filtered_fiber_flux_z = final_filtered_fiber_flux_z[valid_mask]\n",
    "final_filtered_flux_g = final_filtered_flux_g[valid_mask]\n",
    "final_filtered_flux_r = final_filtered_flux_r[valid_mask]\n",
    "final_filtered_flux_z = final_filtered_flux_z[valid_mask]\n",
    "\n",
    "final_filtered_ew2 = final_filtered_ew[valid_mask]"
   ]
  },
  {
   "cell_type": "code",
   "execution_count": 10,
   "id": "98e6fcba",
   "metadata": {},
   "outputs": [
    {
     "name": "stdout",
     "output_type": "stream",
     "text": [
      "294111 294111 294111\n"
     ]
    }
   ],
   "source": [
    "print(len(final_filtered_apparent_magnitude), len(final_filtered_sfr), len(final_filtered_dec))\n"
   ]
  },
  {
   "cell_type": "markdown",
   "id": "13b2a7fc",
   "metadata": {},
   "source": [
    "# Histograms "
   ]
  },
  {
   "cell_type": "code",
   "execution_count": 17,
   "id": "a33a7a05",
   "metadata": {},
   "outputs": [
    {
     "data": {
      "image/png": "[encoded data removed]",
      "text/plain": [
       "<Figure size 800x600 with 1 Axes>"
      ]
     },
     "metadata": {},
     "output_type": "display_data"
    }
   ],
   "source": [
    "import matplotlib.pyplot as plt\n",
    "\n",
    "filtered_values = final_filtered_ew2[final_filtered_ew2 > 0]  # Ensure values > 0 for log10\n",
    "log_values = np.log10(filtered_values)\n",
    "\n",
    "plt.figure(figsize=(8, 6))\n",
    "plt.hist(log_values, bins=500, density=True, alpha=0.7, color='black', edgecolor='black')\n",
    "\n",
    "plt.xlabel(r\"$\\log_{10}(\\mathrm{Halpha_EW})$\", fontsize=14)\n",
    "plt.ylabel(\"Density\", fontsize=14)\n",
    "plt.title(\"Histogram of Halpha_EW\", fontsize=16)\n",
    "plt.xlim(-5, 2.5)\n",
    "\n",
    "plt.show()"
   ]
  },
  {
   "cell_type": "code",
   "execution_count": null,
   "id": "a028ffa1",
   "metadata": {},
   "outputs": [],
   "source": [
    "import matplotlib.pyplot as plt\n",
    "\n",
    "data_dict = {\n",
    "    \"ABSMAG01_SDSS_R\": final_filtered_abs_magr,\n",
    "    \"LOGMSTAR\": final_filtered_logmstar,\n",
    "}\n",
    "\n",
    "for label, data in data_dict.items():\n",
    "    plt.figure(figsize=(8, 5))\n",
    "    plt.hist(data, bins = 500, edgecolor=\"k\", alpha=0.7)\n",
    "    plt.title(f\"Histogram of {label}\", fontsize=16)\n",
    "    plt.xlabel(label, fontsize=14)\n",
    "    plt.ylabel(\"Frequency\", fontsize=14)\n",
    "    plt.grid(alpha=0.3)\n",
    "    plt.show()"
   ]
  },
  {
   "cell_type": "code",
   "execution_count": null,
   "id": "32caab7a",
   "metadata": {},
   "outputs": [],
   "source": [
    "\n",
    "color_ur = final_filtered_abs_magu - final_filtered_abs_magr\n",
    "color_gr = final_filtered_abs_magg - final_filtered_abs_magr\n",
    "\n",
    "plt.figure(figsize=(8, 5))\n",
    "plt.hist(color_ur, bins=500, edgecolor=\"k\", alpha=0.7, color='blue')\n",
    "plt.title(\"Histogram of Color (u-r)\", fontsize=16)\n",
    "plt.xlabel(\"u - r\", fontsize=14)\n",
    "plt.ylabel(\"Frequency\", fontsize=14)\n",
    "plt.grid(alpha=0.3)\n",
    "plt.xlim(0,4)\n",
    "plt.show()\n",
    "\n",
    "plt.figure(figsize=(8, 5))\n",
    "plt.hist(color_gr, bins=500, edgecolor=\"k\", alpha=0.7, color='blue')\n",
    "plt.title(\"Histogram of Color (g-r)\", fontsize=16)\n",
    "plt.xlabel(\"g - r\", fontsize=14)\n",
    "plt.ylabel(\"Frequency\", fontsize=14)\n",
    "plt.grid(alpha=0.3)\n",
    "plt.xlim(-0.5, 1.5)\n",
    "plt.show()"
   ]
  },
  {
   "cell_type": "code",
   "execution_count": null,
   "id": "bf83c03c",
   "metadata": {},
   "outputs": [],
   "source": [
    "#histogram of SFR in Fastspecfit\n",
    "\n",
    "print(\"number of zero SFR values is\", len(final_filtered_sfr[final_filtered_sfr == 0]\n",
    "))\n",
    "\n",
    "small_value = 1e-10\n",
    "\n",
    "\n",
    "log_sfr = np.log10(np.where(final_filtered_sfr > 0, final_filtered_sfr, small_value))\n",
    "log_sfr[final_filtered_sfr == 0] = np.nan \n",
    "\n",
    "plt.figure(figsize=(8, 5))\n",
    "plt.hist(log_sfr, bins=1000, edgecolor=\"k\", alpha=0.7)\n",
    "plt.title(\"Histogram of log10(SFR) (Filtered Data)\", fontsize=16)\n",
    "plt.xlabel(\"log10(SFR)\", fontsize=14)\n",
    "plt.ylabel(\"Frequency\", fontsize=14)\n",
    "plt.grid(alpha=0.3)\n",
    "\n",
    "plt.show()\n",
    "\n",
    "print(len(log_sfr))"
   ]
  },
  {
   "cell_type": "markdown",
   "id": "3057bbed",
   "metadata": {},
   "source": [
    "# Calculat SFR using H_alpha flux"
   ]
  },
  {
   "cell_type": "code",
   "execution_count": null,
   "id": "56a03713",
   "metadata": {},
   "outputs": [],
   "source": [
    "import pandas as pd\n",
    "\n",
    "df = pd.DataFrame({\n",
    "    \"log10(SFR)\": log_sfr\n",
    "})\n",
    "\n",
    "\n",
    "print(\"\\nFirst 10 log10(SFR) values in Fastspecfit:\")\n",
    "print(df[\"log10(SFR)\"].head(10).to_list())"
   ]
  },
  {
   "cell_type": "markdown",
   "id": "2b9020c4",
   "metadata": {},
   "source": [
    "## Calculate SFR before applying the Hα luminosity correction"
   ]
  },
  {
   "cell_type": "code",
   "execution_count": null,
   "id": "8caaf72a",
   "metadata": {},
   "outputs": [],
   "source": [
    "# Calculate luminosity distance DL\n",
    "\n",
    "m = final_filtered_apparent_magnitude  # Apparent magnitude\n",
    "M = final_filtered_abs_magr  # Absolute magnitude (R-band)\n",
    "\n",
    "D_L = 10 ** (((m - M) / 5) + 1)  # in parsecs\n",
    "\n",
    "D_L = D_L * 3.0857e18    # in cm\n",
    "\n",
    "print(\"First 10 computed D_L values:\")\n",
    "print(D_L[:10])\n",
    "\n",
    "print(min(D_L), max(D_L))"
   ]
  },
  {
   "cell_type": "code",
   "execution_count": null,
   "id": "2c716f19",
   "metadata": {},
   "outputs": [],
   "source": [
    "#calculate H_alpha/H_beta\n",
    "\n",
    "#1e-17 erg / (cm2 s)\n",
    "\n",
    "print(final_filtered_halpha[:10])\n",
    "print(final_filtered_hbeta[:10])\n",
    "\n",
    "adjusted_halpha = final_filtered_halpha * 10**-17\n",
    "adjusted_hbeta = final_filtered_hbeta * 10**-17\n",
    "\n",
    "print(min(adjusted_halpha), max(adjusted_halpha))\n",
    "\n",
    "print(\"range of ratio Halpha/Hbeta is:\", min(adjusted_halpha / adjusted_hbeta), max(adjusted_halpha / adjusted_hbeta))\n",
    "\n",
    "Halpha_Hbeta = adjusted_halpha / adjusted_hbeta\n",
    "\n",
    "plt.figure(figsize=(8, 5))\n",
    "plt.hist(Halpha_Hbeta, bins=500, range=(0, 10), edgecolor=\"black\", alpha=0.7)\n",
    "plt.xlabel(\"Hα / Hβ Ratio\", fontsize=14)\n",
    "plt.ylabel(\"Frequency\", fontsize=14)\n",
    "plt.title(\"Histogram of Hα / Hβ Ratio\", fontsize=16)\n",
    "plt.grid(alpha=0.3)\n",
    "plt.show()"
   ]
  },
  {
   "cell_type": "code",
   "execution_count": null,
   "id": "20bb4bf8",
   "metadata": {},
   "outputs": [],
   "source": [
    "\n",
    "\n",
    "A_Halpha = np.maximum(5.91 * np.log10(Halpha_Hbeta) - 2.70, 0)\n",
    "\n",
    "f_Halpha = adjusted_halpha * 10 ** (A_Halpha / 2.5)  #erg/s/cm²\n",
    "\n",
    "L_Halpha = 4 * np.pi * (D_L ** 2) * f_Halpha  # Luminosity in erg/s\n",
    "\n",
    "SFR = 7.9 * 10 ** (-41.28) * L_Halpha  # SFR in solar masses per year\n",
    "\n",
    "print(\"First 10 values of A_Hα after filtering:\")\n",
    "print(A_Halpha[:10])\n",
    "\n",
    "print(\"\\nFirst 10 corrected Hα flux values (f_Hα) after filtering:\")\n",
    "print(f_Halpha[:10])\n",
    "\n",
    "print(\"\\nFirst 10 values of L_Hα (Hα Luminosity) after filtering:\")\n",
    "print(L_Halpha[:10])\n",
    "\n",
    "print(\"\\nFirst 10 values of SFR (M☉/yr) after filtering:\")\n",
    "print(SFR[:10])\n",
    "\n",
    "# Didn't apply the Hα luminosity correction on L_Halpha "
   ]
  },
  {
   "cell_type": "code",
   "execution_count": null,
   "id": "9d5a8800",
   "metadata": {},
   "outputs": [],
   "source": [
    "print(f\"number of calculated SFR: {len(SFR)}\")\n",
    "print(\"range of calculated SFR:\", max(SFR), min(SFR))"
   ]
  },
  {
   "cell_type": "code",
   "execution_count": null,
   "id": "98b92e7d",
   "metadata": {},
   "outputs": [],
   "source": [
    "#Histogram of calculated SFR before applying the Hα luminosity correction\n",
    "\n",
    "valid_SFR = SFR[SFR > 0]   #remove cases when SFR <= 0 \n",
    "\n",
    "log10_SFR = np.log10(valid_SFR)\n",
    "print(max(log10_SFR), min(log10_SFR))\n",
    "\n",
    "plt.figure(figsize=(8, 5))\n",
    "plt.hist(log10_SFR, bins=1500, edgecolor=\"k\", alpha=0.7)\n",
    "plt.title(\"Histogram of log10(SFR) before applying the Hα luminosity correction\", fontsize=16)\n",
    "plt.xlabel(\"log10(SFR) [M☉/yr]\", fontsize=14)\n",
    "plt.ylabel(\"Frequency\", fontsize=14)\n",
    "plt.grid(alpha=0.3)\n",
    "plt.xlim(-5, 5)\n",
    "plt.show()\n",
    "\n",
    "print(len(log10_SFR))"
   ]
  },
  {
   "cell_type": "code",
   "execution_count": null,
   "id": "e7f55650",
   "metadata": {},
   "outputs": [],
   "source": [
    "print(f\"number of fiber: {len(final_filtered_fiber_flux_g)}\")"
   ]
  },
  {
   "cell_type": "markdown",
   "id": "2c131313",
   "metadata": {},
   "source": [
    "## Calculate SFR after applying the Hα luminosity correction"
   ]
  },
  {
   "cell_type": "code",
   "execution_count": null,
   "id": "6b69bd2a",
   "metadata": {},
   "outputs": [],
   "source": [
    "correction_g = final_filtered_flux_g / final_filtered_fiber_flux_g  #total flux/ fiber flux\n",
    "correction_r = final_filtered_flux_r / final_filtered_fiber_flux_r\n",
    "correction_z = final_filtered_flux_z / final_filtered_fiber_flux_z\n",
    "\n",
    "range_g = (np.min(correction_g), np.max(correction_g))\n",
    "range_r = (np.min(correction_r), np.max(correction_r))\n",
    "range_z = (np.min(correction_z), np.max(correction_z))\n",
    "\n",
    "print(range_g, range_r, range_z)\n",
    "\n",
    "#Since the range of correction factors are large, I took the log_10 of them.\n",
    "log_correction_g = np.log10(correction_g)\n",
    "log_correction_r = np.log10(correction_r)\n",
    "log_correction_z = np.log10(correction_z)\n",
    "\n",
    "range_log_g = (np.min(log_correction_g), np.max(log_correction_g))\n",
    "range_log_r = (np.min(log_correction_r), np.max(log_correction_r))\n",
    "range_log_z = (np.min(log_correction_z), np.max(log_correction_z))\n",
    "\n",
    "fig, axes = plt.subplots(1, 3, figsize=(15, 5))\n",
    "\n",
    "\n",
    "bin = 500\n",
    "\n",
    "axes[0].hist(log_correction_g, bins=bin, color='g', alpha=0.7, edgecolor='black')\n",
    "axes[0].set_xlabel('Log10 Correction Factor (g-band)', fontsize=12)\n",
    "axes[0].set_ylabel('Frequency', fontsize=12)\n",
    "axes[0].set_title(f'Range: {range_log_g}', fontsize=14)\n",
    "axes[0].grid(True, linestyle='--', alpha=0.6)\n",
    "\n",
    "axes[1].hist(log_correction_r, bins=bin, color='r', alpha=0.7, edgecolor='black')\n",
    "axes[1].set_xlabel('Log10 Correction Factor (r-band)', fontsize=12)\n",
    "axes[1].set_title(f'Range: {range_log_r}', fontsize=14)\n",
    "axes[1].grid(True, linestyle='--', alpha=0.6)\n",
    "\n",
    "axes[2].hist(log_correction_z, bins=bin, color='b', alpha=0.7, edgecolor='black')\n",
    "axes[2].set_xlabel('Log10 Correction Factor (z-band)', fontsize=12)\n",
    "axes[2].set_title(f'Range: {range_log_z}', fontsize=14)\n",
    "axes[2].grid(True, linestyle='--', alpha=0.6)\n",
    "\n",
    "plt.tight_layout()\n",
    "plt.subplots_adjust(top=0.9)\n",
    "plt.show()\n",
    "\n",
    "\n",
    "(range_log_g, range_log_r, range_log_z)"
   ]
  },
  {
   "cell_type": "code",
   "execution_count": null,
   "id": "798e7cc0",
   "metadata": {},
   "outputs": [],
   "source": [
    "#Histograms of SFR after correction\n",
    "\n",
    "SFR_g = 7.9 * 10**(-41.28) * L_Halpha * correction_g\n",
    "SFR_r = 7.9 * 10**(-41.28) * L_Halpha * correction_r\n",
    "SFR_z = 7.9 * 10**(-41.28) * L_Halpha * correction_z\n",
    "\n",
    "print(max(SFR_g), min(SFR_g))\n",
    "\n",
    "valid_SFR_g = SFR_g[SFR_g > 0]\n",
    "valid_SFR_r = SFR_r[SFR_r > 0]\n",
    "valid_SFR_z = SFR_z[SFR_z > 0]\n",
    "\n",
    "\n",
    "log10_SFR_g = np.log10(valid_SFR_g)\n",
    "log10_SFR_r = np.log10(valid_SFR_r)\n",
    "log10_SFR_z = np.log10(valid_SFR_z)\n",
    "\n",
    "print(len(log10_SFR_g))\n",
    "\n",
    "plt.figure(figsize=(8, 5))\n",
    "plt.hist(log10_SFR_g, bins=1000, alpha=0.7, edgecolor=\"k\", color=\"blue\")\n",
    "plt.title(\"Histogram of log10(SFR) (G-band Correction)\", fontsize=16)\n",
    "plt.xlabel(\"log10(SFR) [M☉/yr]\", fontsize=14)\n",
    "plt.ylabel(\"Frequency\", fontsize=14)\n",
    "plt.grid(alpha=0.3)\n",
    "plt.xlim(-6, 10)\n",
    "plt.show()\n",
    "\n",
    "plt.figure(figsize=(8, 5))\n",
    "plt.hist(log10_SFR_r, bins=1000, alpha=0.7, edgecolor=\"k\", color=\"red\")\n",
    "plt.title(\"Histogram of log10(SFR) (R-band Correction)\", fontsize=16)\n",
    "plt.xlabel(\"log10(SFR) [M☉/yr]\", fontsize=14)\n",
    "plt.ylabel(\"Frequency\", fontsize=14)\n",
    "plt.grid(alpha=0.3)\n",
    "plt.xlim(-6, 10)\n",
    "plt.show()\n",
    "\n",
    "plt.figure(figsize=(8, 5))\n",
    "plt.hist(log10_SFR_z, bins=1000, alpha=0.7, edgecolor=\"k\", color=\"green\")\n",
    "plt.title(\"Histogram of log10(SFR) (Z-band Correction)\", fontsize=16)\n",
    "plt.xlabel(\"log10(SFR) [M☉/yr]\", fontsize=14)\n",
    "plt.ylabel(\"Frequency\", fontsize=14)\n",
    "plt.grid(alpha=0.3)\n",
    "plt.xlim(-6, 10)\n",
    "plt.show()"
   ]
  },
  {
   "cell_type": "code",
   "execution_count": null,
   "id": "1da0f1ee",
   "metadata": {},
   "outputs": [],
   "source": [
    "bins = np.linspace(-6, 6, 300)\n",
    "\n",
    "plt.figure(figsize=(8, 5))\n",
    "\n",
    "plt.hist(log_sfr, bins=bins, alpha=0.5, edgecolor=\"k\", color=\"purple\", label=\"SFR in FastSpecfit\")\n",
    "\n",
    "plt.hist(log10_SFR_z, bins=bins, alpha=0.5, edgecolor=\"k\", color=\"green\", label=\"Calculated SFR after Z-band Correction\")\n",
    "\n",
    "\n",
    "plt.title(\"Comparison of log10(SFR) Histograms\", fontsize=16)\n",
    "plt.xlabel(\"log10(SFR) [M☉/yr]\", fontsize=14)\n",
    "plt.ylabel(\"Frequency\", fontsize=14)\n",
    "plt.grid(alpha=0.3)\n",
    "plt.xlim(-6, 6)\n",
    "plt.legend()\n",
    "plt.show()\n"
   ]
  },
  {
   "cell_type": "code",
   "execution_count": null,
   "id": "f7077675",
   "metadata": {},
   "outputs": [],
   "source": [
    "plt.figure(figsize=(7, 6))\n",
    "plt.scatter(log_sfr, log10_SFR_r, s = 5, alpha=0.17, edgecolor='black')\n",
    "\n",
    "plt.xlabel(\"log10(SFR) from FastSpefit\", fontsize=12)\n",
    "plt.ylabel(\"log10(SFR) from my calculated value\", fontsize=12)\n",
    "plt.title(\"Scatter Plot of log10(SFR) from Two Sources\", fontsize=14)\n",
    "plt.grid(True, linestyle=\"--\", alpha=0.6)\n",
    "plt.xlim(-6, 6)\n",
    "plt.ylim(-6, 6)\n",
    "\n",
    "\n",
    "plt.show()"
   ]
  },
  {
   "cell_type": "code",
   "execution_count": null,
   "id": "f2d1e424",
   "metadata": {},
   "outputs": [],
   "source": [
    "import seaborn as sns\n",
    "\n",
    "print(\"range of color g-r is:\", min(color_gr), max(color_gr))\n",
    "\n",
    "\n",
    "#Color (g-r) vs FastSpefit SFR\n",
    "df = pd.DataFrame({\n",
    "    'log10_SFR_r': log_sfr,\n",
    "    'color_gr': color_gr\n",
    "})\n",
    "plt.figure(figsize=(8, 6))\n",
    "sns.scatterplot(data=df, s = 5, x='log10_SFR_r', y='color_gr', edgecolor=None, alpha=0.2)\n",
    "plt.title(\"Color (g-r) vs FastSpefit SFR\")\n",
    "plt.xlabel(\"log10(SFR_r) (low to high)\")\n",
    "plt.ylabel(\"Color (g-r) (blue to red)\")\n",
    "\n",
    "plt.show()\n",
    "\n",
    "\n",
    "#Color (g-r) vs my calaulated SFR\n",
    "df = pd.DataFrame({\n",
    "    'log10_SFR_r': log10_SFR_r,\n",
    "    'color_gr': color_gr\n",
    "})\n",
    "plt.figure(figsize=(8, 6))\n",
    "sns.scatterplot(data=df, s = 5, x='log10_SFR_r', y='color_gr', edgecolor=None, alpha=0.2)\n",
    "plt.title(\"Color (g-r) vs Calculated SFR\")\n",
    "plt.xlabel(\"log10(SFR_r) (low to high)\")\n",
    "plt.ylabel(\"Color (g-r) (blue to red)\")\n",
    "plt.show()"
   ]
  },
  {
   "cell_type": "code",
   "execution_count": null,
   "id": "2db947ba",
   "metadata": {},
   "outputs": [],
   "source": [
    "import os\n",
    "from astropy.io import fits\n",
    "import numpy as np\n",
    "\n",
    "# Get the Desktop path dynamically\n",
    "desktop_path = os.path.join(os.path.expanduser(\"~\"), \"Desktop\")\n",
    "output_filename = os.path.join(desktop_path, \"filtered_data.fits\")\n",
    "\n",
    "\n",
    "# Create a dictionary to store the filtered variables\n",
    "filtered_data = {\n",
    "    \"Z\": final_filtered_z,\n",
    "    \"DEC\": final_filtered_dec,\n",
    "    \"RA\": final_filtered_ra,\n",
    "    \"ABS_MAG_R\": final_filtered_abs_magr,\n",
    "    \"ABS_MAG_U\": final_filtered_abs_magu,\n",
    "    \"ABS_MAG_G\": final_filtered_abs_magg,\n",
    "    \"LOG_MSTAR\": final_filtered_logmstar,\n",
    "    \"HALPHA\": final_filtered_halpha,\n",
    "    \"HBETA\": final_filtered_hbeta,\n",
    "    \"SFR\": final_filtered_sfr,\n",
    "    \"APP_MAG\": final_filtered_apparent_magnitude,\n",
    "    \"FIBER_FLUX_G\": final_filtered_fiber_flux_g,\n",
    "    \"FIBER_FLUX_R\": final_filtered_fiber_flux_r,\n",
    "    \"FIBER_FLUX_Z\": final_filtered_fiber_flux_z,\n",
    "    \"FLUX_G\": final_filtered_flux_g,\n",
    "    \"FLUX_R\": final_filtered_flux_r,\n",
    "    \"FLUX_Z\": final_filtered_flux_z,\n",
    "    \"Color_ur\": color_ur,\n",
    "    \"Color_gr\": color_gr\n",
    "}\n",
    "\n",
    "# Convert the dictionary into a FITS table\n",
    "columns = [fits.Column(name=key, format=\"E\", array=np.array(value)) for key, value in filtered_data.items()]\n",
    "hdu = fits.BinTableHDU.from_columns(columns)\n",
    "\n",
    "# Save the file to Desktop\n",
    "hdu.writeto(output_filename, overwrite=True)\n",
    "\n",
    "print(f\"Filtered data successfully saved to: {output_filename}\")"
   ]
  },
  {
   "cell_type": "code",
   "execution_count": null,
   "id": "c1de75a7",
   "metadata": {},
   "outputs": [],
   "source": []
  },
  {
   "cell_type": "code",
   "execution_count": null,
   "id": "26ac9190",
   "metadata": {},
   "outputs": [],
   "source": [
    "\n"
   ]
  },
  {
   "cell_type": "code",
   "execution_count": null,
   "id": "866e1575",
   "metadata": {},
   "outputs": [],
   "source": []
  },
  {
   "cell_type": "code",
   "execution_count": null,
   "id": "56bbf39b",
   "metadata": {},
   "outputs": [],
   "source": []
  }
 ],
 "metadata": {
  "kernelspec": {
   "display_name": "Python 3 (ipykernel)",
   "language": "python",
   "name": "python3"
  },
  "language_info": {
   "codemirror_mode": {
    "name": "ipython",
    "version": 3
   },
   "file_extension": ".py",
   "mimetype": "text/x-python",
   "name": "python",
   "nbconvert_exporter": "python",
   "pygments_lexer": "ipython3",
   "version": "3.10.11"
  }
 },
 "nbformat": 4,
 "nbformat_minor": 5
}
